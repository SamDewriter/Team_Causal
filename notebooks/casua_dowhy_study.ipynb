{
 "cells": [
  {
   "cell_type": "code",
   "execution_count": 2,
   "metadata": {},
   "outputs": [
    {
     "data": {
      "text/html": [
       "<div>\n",
       "<style scoped>\n",
       "    .dataframe tbody tr th:only-of-type {\n",
       "        vertical-align: middle;\n",
       "    }\n",
       "\n",
       "    .dataframe tbody tr th {\n",
       "        vertical-align: top;\n",
       "    }\n",
       "\n",
       "    .dataframe thead th {\n",
       "        text-align: right;\n",
       "    }\n",
       "</style>\n",
       "<table border=\"1\" class=\"dataframe\">\n",
       "  <thead>\n",
       "    <tr style=\"text-align: right;\">\n",
       "      <th></th>\n",
       "      <th>diagnosis</th>\n",
       "      <th>radius_mean</th>\n",
       "      <th>texture_mean</th>\n",
       "      <th>perimeter_mean</th>\n",
       "      <th>area_mean</th>\n",
       "      <th>smoothness_mean</th>\n",
       "      <th>compactness_mean</th>\n",
       "      <th>concavity_mean</th>\n",
       "      <th>concave_points_mean</th>\n",
       "      <th>symmetry_mean</th>\n",
       "      <th>...</th>\n",
       "      <th>radius_worst</th>\n",
       "      <th>texture_worst</th>\n",
       "      <th>perimeter_worst</th>\n",
       "      <th>area_worst</th>\n",
       "      <th>smoothness_worst</th>\n",
       "      <th>compactness_worst</th>\n",
       "      <th>concavity_worst</th>\n",
       "      <th>concave_points_worst</th>\n",
       "      <th>symmetry_worst</th>\n",
       "      <th>fractal_dimension_worst</th>\n",
       "    </tr>\n",
       "  </thead>\n",
       "  <tbody>\n",
       "    <tr>\n",
       "      <th>0</th>\n",
       "      <td>M</td>\n",
       "      <td>17.99</td>\n",
       "      <td>10.38</td>\n",
       "      <td>122.80</td>\n",
       "      <td>1001.0</td>\n",
       "      <td>0.11840</td>\n",
       "      <td>0.27760</td>\n",
       "      <td>0.3001</td>\n",
       "      <td>0.14710</td>\n",
       "      <td>0.2419</td>\n",
       "      <td>...</td>\n",
       "      <td>25.38</td>\n",
       "      <td>17.33</td>\n",
       "      <td>184.60</td>\n",
       "      <td>2019.0</td>\n",
       "      <td>0.1622</td>\n",
       "      <td>0.6656</td>\n",
       "      <td>0.7119</td>\n",
       "      <td>0.2654</td>\n",
       "      <td>0.4601</td>\n",
       "      <td>0.11890</td>\n",
       "    </tr>\n",
       "    <tr>\n",
       "      <th>1</th>\n",
       "      <td>M</td>\n",
       "      <td>20.57</td>\n",
       "      <td>17.77</td>\n",
       "      <td>132.90</td>\n",
       "      <td>1326.0</td>\n",
       "      <td>0.08474</td>\n",
       "      <td>0.07864</td>\n",
       "      <td>0.0869</td>\n",
       "      <td>0.07017</td>\n",
       "      <td>0.1812</td>\n",
       "      <td>...</td>\n",
       "      <td>24.99</td>\n",
       "      <td>23.41</td>\n",
       "      <td>158.80</td>\n",
       "      <td>1956.0</td>\n",
       "      <td>0.1238</td>\n",
       "      <td>0.1866</td>\n",
       "      <td>0.2416</td>\n",
       "      <td>0.1860</td>\n",
       "      <td>0.2750</td>\n",
       "      <td>0.08902</td>\n",
       "    </tr>\n",
       "    <tr>\n",
       "      <th>2</th>\n",
       "      <td>M</td>\n",
       "      <td>19.69</td>\n",
       "      <td>21.25</td>\n",
       "      <td>130.00</td>\n",
       "      <td>1203.0</td>\n",
       "      <td>0.10960</td>\n",
       "      <td>0.15990</td>\n",
       "      <td>0.1974</td>\n",
       "      <td>0.12790</td>\n",
       "      <td>0.2069</td>\n",
       "      <td>...</td>\n",
       "      <td>23.57</td>\n",
       "      <td>25.53</td>\n",
       "      <td>152.50</td>\n",
       "      <td>1709.0</td>\n",
       "      <td>0.1444</td>\n",
       "      <td>0.4245</td>\n",
       "      <td>0.4504</td>\n",
       "      <td>0.2430</td>\n",
       "      <td>0.3613</td>\n",
       "      <td>0.08758</td>\n",
       "    </tr>\n",
       "    <tr>\n",
       "      <th>3</th>\n",
       "      <td>M</td>\n",
       "      <td>11.42</td>\n",
       "      <td>20.38</td>\n",
       "      <td>77.58</td>\n",
       "      <td>386.1</td>\n",
       "      <td>0.14250</td>\n",
       "      <td>0.28390</td>\n",
       "      <td>0.2414</td>\n",
       "      <td>0.10520</td>\n",
       "      <td>0.2597</td>\n",
       "      <td>...</td>\n",
       "      <td>14.91</td>\n",
       "      <td>26.50</td>\n",
       "      <td>98.87</td>\n",
       "      <td>567.7</td>\n",
       "      <td>0.2098</td>\n",
       "      <td>0.8663</td>\n",
       "      <td>0.6869</td>\n",
       "      <td>0.2575</td>\n",
       "      <td>0.6638</td>\n",
       "      <td>0.17300</td>\n",
       "    </tr>\n",
       "    <tr>\n",
       "      <th>4</th>\n",
       "      <td>M</td>\n",
       "      <td>20.29</td>\n",
       "      <td>14.34</td>\n",
       "      <td>135.10</td>\n",
       "      <td>1297.0</td>\n",
       "      <td>0.10030</td>\n",
       "      <td>0.13280</td>\n",
       "      <td>0.1980</td>\n",
       "      <td>0.10430</td>\n",
       "      <td>0.1809</td>\n",
       "      <td>...</td>\n",
       "      <td>22.54</td>\n",
       "      <td>16.67</td>\n",
       "      <td>152.20</td>\n",
       "      <td>1575.0</td>\n",
       "      <td>0.1374</td>\n",
       "      <td>0.2050</td>\n",
       "      <td>0.4000</td>\n",
       "      <td>0.1625</td>\n",
       "      <td>0.2364</td>\n",
       "      <td>0.07678</td>\n",
       "    </tr>\n",
       "  </tbody>\n",
       "</table>\n",
       "<p>5 rows × 31 columns</p>\n",
       "</div>"
      ],
      "text/plain": [
       "  diagnosis  radius_mean  texture_mean  perimeter_mean  area_mean  \\\n",
       "0         M        17.99         10.38          122.80     1001.0   \n",
       "1         M        20.57         17.77          132.90     1326.0   \n",
       "2         M        19.69         21.25          130.00     1203.0   \n",
       "3         M        11.42         20.38           77.58      386.1   \n",
       "4         M        20.29         14.34          135.10     1297.0   \n",
       "\n",
       "   smoothness_mean  compactness_mean  concavity_mean  concave_points_mean  \\\n",
       "0          0.11840           0.27760          0.3001              0.14710   \n",
       "1          0.08474           0.07864          0.0869              0.07017   \n",
       "2          0.10960           0.15990          0.1974              0.12790   \n",
       "3          0.14250           0.28390          0.2414              0.10520   \n",
       "4          0.10030           0.13280          0.1980              0.10430   \n",
       "\n",
       "   symmetry_mean  ...  radius_worst  texture_worst  perimeter_worst  \\\n",
       "0         0.2419  ...         25.38          17.33           184.60   \n",
       "1         0.1812  ...         24.99          23.41           158.80   \n",
       "2         0.2069  ...         23.57          25.53           152.50   \n",
       "3         0.2597  ...         14.91          26.50            98.87   \n",
       "4         0.1809  ...         22.54          16.67           152.20   \n",
       "\n",
       "   area_worst  smoothness_worst  compactness_worst  concavity_worst  \\\n",
       "0      2019.0            0.1622             0.6656           0.7119   \n",
       "1      1956.0            0.1238             0.1866           0.2416   \n",
       "2      1709.0            0.1444             0.4245           0.4504   \n",
       "3       567.7            0.2098             0.8663           0.6869   \n",
       "4      1575.0            0.1374             0.2050           0.4000   \n",
       "\n",
       "   concave_points_worst  symmetry_worst  fractal_dimension_worst  \n",
       "0                0.2654          0.4601                  0.11890  \n",
       "1                0.1860          0.2750                  0.08902  \n",
       "2                0.2430          0.3613                  0.08758  \n",
       "3                0.2575          0.6638                  0.17300  \n",
       "4                0.1625          0.2364                  0.07678  \n",
       "\n",
       "[5 rows x 31 columns]"
      ]
     },
     "execution_count": 2,
     "metadata": {},
     "output_type": "execute_result"
    }
   ],
   "source": [
    "import pandas as pd\n",
    "data = pd.read_csv('../data/clean.csv')\n",
    "data.head()"
   ]
  },
  {
   "cell_type": "markdown",
   "metadata": {},
   "source": [
    "We can now apply the NOTEARS algorithm to learn the structure.\n"
   ]
  },
  {
   "cell_type": "code",
   "execution_count": 3,
   "metadata": {},
   "outputs": [],
   "source": [
    "\n",
    "# importing required libraries\n",
    "import dowhy\n",
    "from dowhy import CausalModel\n",
    "import pandas as pd\n",
    "import numpy as np"
   ]
  },
  {
   "cell_type": "code",
   "execution_count": 4,
   "metadata": {},
   "outputs": [
    {
     "data": {
      "text/html": [
       "<div>\n",
       "<style scoped>\n",
       "    .dataframe tbody tr th:only-of-type {\n",
       "        vertical-align: middle;\n",
       "    }\n",
       "\n",
       "    .dataframe tbody tr th {\n",
       "        vertical-align: top;\n",
       "    }\n",
       "\n",
       "    .dataframe thead th {\n",
       "        text-align: right;\n",
       "    }\n",
       "</style>\n",
       "<table border=\"1\" class=\"dataframe\">\n",
       "  <thead>\n",
       "    <tr style=\"text-align: right;\">\n",
       "      <th></th>\n",
       "      <th>diagnosis</th>\n",
       "      <th>radius_worst</th>\n",
       "      <th>perimeter_worst</th>\n",
       "      <th>area_worst</th>\n",
       "      <th>concave_points_mean</th>\n",
       "      <th>concave_points_worst</th>\n",
       "    </tr>\n",
       "  </thead>\n",
       "  <tbody>\n",
       "    <tr>\n",
       "      <th>0</th>\n",
       "      <td>M</td>\n",
       "      <td>25.38</td>\n",
       "      <td>184.60</td>\n",
       "      <td>2019.0</td>\n",
       "      <td>0.7119</td>\n",
       "      <td>0.2654</td>\n",
       "    </tr>\n",
       "    <tr>\n",
       "      <th>1</th>\n",
       "      <td>M</td>\n",
       "      <td>24.99</td>\n",
       "      <td>158.80</td>\n",
       "      <td>1956.0</td>\n",
       "      <td>0.2416</td>\n",
       "      <td>0.1860</td>\n",
       "    </tr>\n",
       "    <tr>\n",
       "      <th>2</th>\n",
       "      <td>M</td>\n",
       "      <td>23.57</td>\n",
       "      <td>152.50</td>\n",
       "      <td>1709.0</td>\n",
       "      <td>0.4504</td>\n",
       "      <td>0.2430</td>\n",
       "    </tr>\n",
       "    <tr>\n",
       "      <th>3</th>\n",
       "      <td>M</td>\n",
       "      <td>14.91</td>\n",
       "      <td>98.87</td>\n",
       "      <td>567.7</td>\n",
       "      <td>0.6869</td>\n",
       "      <td>0.2575</td>\n",
       "    </tr>\n",
       "    <tr>\n",
       "      <th>4</th>\n",
       "      <td>M</td>\n",
       "      <td>22.54</td>\n",
       "      <td>152.20</td>\n",
       "      <td>1575.0</td>\n",
       "      <td>0.4000</td>\n",
       "      <td>0.1625</td>\n",
       "    </tr>\n",
       "  </tbody>\n",
       "</table>\n",
       "</div>"
      ],
      "text/plain": [
       "  diagnosis  radius_worst  perimeter_worst  area_worst  concave_points_mean  \\\n",
       "0         M         25.38           184.60      2019.0               0.7119   \n",
       "1         M         24.99           158.80      1956.0               0.2416   \n",
       "2         M         23.57           152.50      1709.0               0.4504   \n",
       "3         M         14.91            98.87       567.7               0.6869   \n",
       "4         M         22.54           152.20      1575.0               0.4000   \n",
       "\n",
       "   concave_points_worst  \n",
       "0                0.2654  \n",
       "1                0.1860  \n",
       "2                0.2430  \n",
       "3                0.2575  \n",
       "4                0.1625  "
      ]
     },
     "execution_count": 4,
     "metadata": {},
     "output_type": "execute_result"
    }
   ],
   "source": [
    "data= pd.read_csv(\"../data/features2.csv\")\n",
    "\n",
    "#data = data.astype({\"treatment\":'bool'}, copy=False)\n",
    "data.head()"
   ]
  },
  {
   "cell_type": "code",
   "execution_count": 5,
   "metadata": {},
   "outputs": [
    {
     "name": "stdout",
     "output_type": "stream",
     "text": [
      "['diagnosis']\n"
     ]
    }
   ],
   "source": [
    "import numpy as np\n",
    "#struct_data = data.copy()\n",
    "\n",
    "non_numeric_columns = list(data.select_dtypes(exclude=[np.number]).columns)\n",
    "print(non_numeric_columns)"
   ]
  },
  {
   "cell_type": "code",
   "execution_count": 6,
   "metadata": {},
   "outputs": [
    {
     "data": {
      "text/html": [
       "<div>\n",
       "<style scoped>\n",
       "    .dataframe tbody tr th:only-of-type {\n",
       "        vertical-align: middle;\n",
       "    }\n",
       "\n",
       "    .dataframe tbody tr th {\n",
       "        vertical-align: top;\n",
       "    }\n",
       "\n",
       "    .dataframe thead th {\n",
       "        text-align: right;\n",
       "    }\n",
       "</style>\n",
       "<table border=\"1\" class=\"dataframe\">\n",
       "  <thead>\n",
       "    <tr style=\"text-align: right;\">\n",
       "      <th></th>\n",
       "      <th>diagnosis</th>\n",
       "      <th>radius_worst</th>\n",
       "      <th>perimeter_worst</th>\n",
       "      <th>area_worst</th>\n",
       "      <th>concave_points_mean</th>\n",
       "      <th>concave_points_worst</th>\n",
       "    </tr>\n",
       "  </thead>\n",
       "  <tbody>\n",
       "    <tr>\n",
       "      <th>0</th>\n",
       "      <td>1</td>\n",
       "      <td>25.38</td>\n",
       "      <td>184.60</td>\n",
       "      <td>2019.0</td>\n",
       "      <td>0.7119</td>\n",
       "      <td>0.2654</td>\n",
       "    </tr>\n",
       "    <tr>\n",
       "      <th>1</th>\n",
       "      <td>1</td>\n",
       "      <td>24.99</td>\n",
       "      <td>158.80</td>\n",
       "      <td>1956.0</td>\n",
       "      <td>0.2416</td>\n",
       "      <td>0.1860</td>\n",
       "    </tr>\n",
       "    <tr>\n",
       "      <th>2</th>\n",
       "      <td>1</td>\n",
       "      <td>23.57</td>\n",
       "      <td>152.50</td>\n",
       "      <td>1709.0</td>\n",
       "      <td>0.4504</td>\n",
       "      <td>0.2430</td>\n",
       "    </tr>\n",
       "    <tr>\n",
       "      <th>3</th>\n",
       "      <td>1</td>\n",
       "      <td>14.91</td>\n",
       "      <td>98.87</td>\n",
       "      <td>567.7</td>\n",
       "      <td>0.6869</td>\n",
       "      <td>0.2575</td>\n",
       "    </tr>\n",
       "    <tr>\n",
       "      <th>4</th>\n",
       "      <td>1</td>\n",
       "      <td>22.54</td>\n",
       "      <td>152.20</td>\n",
       "      <td>1575.0</td>\n",
       "      <td>0.4000</td>\n",
       "      <td>0.1625</td>\n",
       "    </tr>\n",
       "  </tbody>\n",
       "</table>\n",
       "</div>"
      ],
      "text/plain": [
       "   diagnosis  radius_worst  perimeter_worst  area_worst  concave_points_mean  \\\n",
       "0          1         25.38           184.60      2019.0               0.7119   \n",
       "1          1         24.99           158.80      1956.0               0.2416   \n",
       "2          1         23.57           152.50      1709.0               0.4504   \n",
       "3          1         14.91            98.87       567.7               0.6869   \n",
       "4          1         22.54           152.20      1575.0               0.4000   \n",
       "\n",
       "   concave_points_worst  \n",
       "0                0.2654  \n",
       "1                0.1860  \n",
       "2                0.2430  \n",
       "3                0.2575  \n",
       "4                0.1625  "
      ]
     },
     "execution_count": 6,
     "metadata": {},
     "output_type": "execute_result"
    }
   ],
   "source": [
    "from sklearn.preprocessing import LabelEncoder\n",
    "\n",
    "le = LabelEncoder()\n",
    "for col in non_numeric_columns:\n",
    "    data[col] = le.fit_transform(data[col])\n",
    "\n",
    "data.head(5)"
   ]
  },
  {
   "cell_type": "markdown",
   "metadata": {},
   "source": [
    "1.Model"
   ]
  },
  {
   "cell_type": "code",
   "execution_count": 7,
   "metadata": {},
   "outputs": [],
   "source": [
    "# Create a causal model from the data and given common causes.\n",
    "xs = \"\"\n",
    "for i in range(1,26):\n",
    "    xs += (\"x\"+str(i)+\"+\")\n",
    "    \n",
    "model=CausalModel(\n",
    "        data = data,\n",
    "        treatment='diagnosis',\n",
    "        outcome='radius_worst',\n",
    "        common_causes=xs.split('+')\n",
    "        )"
   ]
  },
  {
   "cell_type": "markdown",
   "metadata": {},
   "source": [
    ".Identify"
   ]
  },
  {
   "cell_type": "code",
   "execution_count": 8,
   "metadata": {},
   "outputs": [
    {
     "name": "stdout",
     "output_type": "stream",
     "text": [
      "Estimand type: nonparametric-ate\n",
      "\n",
      "### Estimand : 1\n",
      "Estimand name: backdoor\n",
      "Estimand expression:\n",
      "     d                                 \n",
      "────────────(Expectation(radius_worst))\n",
      "d[diagnosis]                           \n",
      "Estimand assumption 1, Unconfoundedness: If U→{diagnosis} and U→radius_worst then P(radius_worst|diagnosis,,U) = P(radius_worst|diagnosis,)\n",
      "\n",
      "### Estimand : 2\n",
      "Estimand name: iv\n",
      "No such variable found!\n",
      "\n",
      "### Estimand : 3\n",
      "Estimand name: frontdoor\n",
      "No such variable found!\n",
      "\n"
     ]
    }
   ],
   "source": [
    "#Identify the causal effect\n",
    "identified_estimand = model.identify_effect(proceed_when_unidentifiable=True)\n",
    "print(identified_estimand)"
   ]
  },
  {
   "cell_type": "markdown",
   "metadata": {},
   "source": [
    "## Estimate (using different methods)\n",
    "3.1 Using Linear Regression"
   ]
  },
  {
   "cell_type": "code",
   "execution_count": 9,
   "metadata": {},
   "outputs": [
    {
     "name": "stdout",
     "output_type": "stream",
     "text": [
      "*** Causal Estimate ***\n",
      "\n",
      "## Identified estimand\n",
      "Estimand type: nonparametric-ate\n",
      "\n",
      "### Estimand : 1\n",
      "Estimand name: backdoor\n",
      "Estimand expression:\n",
      "     d                                 \n",
      "────────────(Expectation(radius_worst))\n",
      "d[diagnosis]                           \n",
      "Estimand assumption 1, Unconfoundedness: If U→{diagnosis} and U→radius_worst then P(radius_worst|diagnosis,,U) = P(radius_worst|diagnosis,)\n",
      "\n",
      "## Realized estimand\n",
      "b: radius_worst~diagnosis\n",
      "Target units: ate\n",
      "\n",
      "## Estimate\n",
      "Mean value: 7.755010200306534\n",
      "p-value: [8.48229192e-116]\n",
      "\n",
      "Causal Estimate is 7.755010200306534\n",
      "ATE 7.755010200306518\n"
     ]
    }
   ],
   "source": [
    "# Estimate the causal effect and compare it with Average Treatment Effect\n",
    "estimate = model.estimate_effect(identified_estimand,\n",
    "        method_name=\"backdoor.linear_regression\", test_significance=True\n",
    ")\n",
    "\n",
    "print(estimate)\n",
    "\n",
    "print(\"Causal Estimate is \" + str(estimate.value))\n",
    "data_1 = data[data[\"diagnosis\"]==1]\n",
    "data_0 = data[data[\"diagnosis\"]==0]\n",
    "\n",
    "print(\"ATE\", np.mean(data_1[\"radius_worst\"])- np.mean(data_0[\"radius_worst\"]))"
   ]
  },
  {
   "cell_type": "markdown",
   "metadata": {},
   "source": [
    "## Refute\n",
    "Refute the obtained estimate using multiple robustness checks.\n",
    "\n",
    "4.1 Adding a random common cause"
   ]
  },
  {
   "cell_type": "code",
   "execution_count": 10,
   "metadata": {},
   "outputs": [
    {
     "name": "stdout",
     "output_type": "stream",
     "text": [
      "Refute: Add a Random Common Cause\n",
      "Estimated effect:7.755010200306534\n",
      "New effect:7.757723052333992\n",
      "\n"
     ]
    }
   ],
   "source": [
    "refute_results=model.refute_estimate(identified_estimand, estimate,\n",
    "        method_name=\"random_common_cause\")\n",
    "print(refute_results)"
   ]
  },
  {
   "cell_type": "markdown",
   "metadata": {},
   "source": [
    "Using a placebo treatment"
   ]
  },
  {
   "cell_type": "code",
   "execution_count": 11,
   "metadata": {},
   "outputs": [
    {
     "name": "stdout",
     "output_type": "stream",
     "text": [
      "Refute: Use a Placebo Treatment\n",
      "Estimated effect:7.755010200306534\n",
      "New effect:0.08703218262777065\n",
      "p value:0.43\n",
      "\n"
     ]
    }
   ],
   "source": [
    "res_placebo=model.refute_estimate(identified_estimand, estimate,\n",
    "        method_name=\"placebo_treatment_refuter\", placebo_type=\"permute\")\n",
    "print(res_placebo)"
   ]
  },
  {
   "cell_type": "markdown",
   "metadata": {},
   "source": [
    "Data Subset Refuter"
   ]
  },
  {
   "cell_type": "code",
   "execution_count": 12,
   "metadata": {},
   "outputs": [
    {
     "name": "stdout",
     "output_type": "stream",
     "text": [
      "Refute: Use a subset of data\n",
      "Estimated effect:7.755010200306534\n",
      "New effect:7.757097693690553\n",
      "p value:0.48\n",
      "\n"
     ]
    }
   ],
   "source": [
    "res_subset=model.refute_estimate(identified_estimand, estimate,\n",
    "        method_name=\"data_subset_refuter\", subset_fraction=0.9)\n",
    "print(res_subset)"
   ]
  },
  {
   "cell_type": "code",
   "execution_count": 13,
   "metadata": {},
   "outputs": [],
   "source": [
    "import dowhy\n",
    "from causalgraphicalmodels import CausalGraphicalModel\n",
    "from sklearn.model_selection import train_test_split\n",
    "import pandas as pd\n",
    "import sys\n",
    "sys.path.append(\"../scripts/\")\n",
    "from features import feature_scaling\n",
    "#from plot import plot_distribution\n",
    "import warnings\n",
    "warnings.filterwarnings('ignore')\n",
    "from dowhy import CausalModel\n",
    "from IPython.display import Image, display"
   ]
  },
  {
   "cell_type": "code",
   "execution_count": 14,
   "metadata": {},
   "outputs": [],
   "source": [
    "from graphviz import Digraph\n",
    "import pydotplus"
   ]
  },
  {
   "cell_type": "code",
   "execution_count": 15,
   "metadata": {},
   "outputs": [
    {
     "data": {
      "text/html": [
       "<div>\n",
       "<style scoped>\n",
       "    .dataframe tbody tr th:only-of-type {\n",
       "        vertical-align: middle;\n",
       "    }\n",
       "\n",
       "    .dataframe tbody tr th {\n",
       "        vertical-align: top;\n",
       "    }\n",
       "\n",
       "    .dataframe thead th {\n",
       "        text-align: right;\n",
       "    }\n",
       "</style>\n",
       "<table border=\"1\" class=\"dataframe\">\n",
       "  <thead>\n",
       "    <tr style=\"text-align: right;\">\n",
       "      <th></th>\n",
       "      <th>diagnosis</th>\n",
       "      <th>radius_worst</th>\n",
       "      <th>perimeter_worst</th>\n",
       "      <th>area_worst</th>\n",
       "      <th>concave_points_mean</th>\n",
       "      <th>concave_points_worst</th>\n",
       "    </tr>\n",
       "  </thead>\n",
       "  <tbody>\n",
       "    <tr>\n",
       "      <th>0</th>\n",
       "      <td>1</td>\n",
       "      <td>1.886690</td>\n",
       "      <td>2.303601</td>\n",
       "      <td>2.001237</td>\n",
       "      <td>2.109526</td>\n",
       "      <td>2.296076</td>\n",
       "    </tr>\n",
       "    <tr>\n",
       "      <th>1</th>\n",
       "      <td>1</td>\n",
       "      <td>1.805927</td>\n",
       "      <td>1.535126</td>\n",
       "      <td>1.890489</td>\n",
       "      <td>-0.146749</td>\n",
       "      <td>1.087084</td>\n",
       "    </tr>\n",
       "    <tr>\n",
       "      <th>2</th>\n",
       "      <td>1</td>\n",
       "      <td>1.511870</td>\n",
       "      <td>1.347475</td>\n",
       "      <td>1.456285</td>\n",
       "      <td>0.854974</td>\n",
       "      <td>1.955000</td>\n",
       "    </tr>\n",
       "    <tr>\n",
       "      <th>3</th>\n",
       "      <td>1</td>\n",
       "      <td>-0.281464</td>\n",
       "      <td>-0.249939</td>\n",
       "      <td>-0.550021</td>\n",
       "      <td>1.989588</td>\n",
       "      <td>2.175786</td>\n",
       "    </tr>\n",
       "    <tr>\n",
       "      <th>4</th>\n",
       "      <td>1</td>\n",
       "      <td>1.298575</td>\n",
       "      <td>1.338539</td>\n",
       "      <td>1.220724</td>\n",
       "      <td>0.613179</td>\n",
       "      <td>0.729259</td>\n",
       "    </tr>\n",
       "  </tbody>\n",
       "</table>\n",
       "</div>"
      ],
      "text/plain": [
       "   diagnosis  radius_worst  perimeter_worst  area_worst  concave_points_mean  \\\n",
       "0          1      1.886690         2.303601    2.001237             2.109526   \n",
       "1          1      1.805927         1.535126    1.890489            -0.146749   \n",
       "2          1      1.511870         1.347475    1.456285             0.854974   \n",
       "3          1     -0.281464        -0.249939   -0.550021             1.989588   \n",
       "4          1      1.298575         1.338539    1.220724             0.613179   \n",
       "\n",
       "   concave_points_worst  \n",
       "0              2.296076  \n",
       "1              1.087084  \n",
       "2              1.955000  \n",
       "3              2.175786  \n",
       "4              0.729259  "
      ]
     },
     "execution_count": 15,
     "metadata": {},
     "output_type": "execute_result"
    }
   ],
   "source": [
    "data = feature_scaling(data,'diagnosis')\n",
    "data.head()"
   ]
  },
  {
   "cell_type": "code",
   "execution_count": 16,
   "metadata": {},
   "outputs": [],
   "source": [
    "#data['low_radius'] = data['radius_worst'].apply(lambda x: True if x < 18 else False)"
   ]
  },
  {
   "cell_type": "code",
   "execution_count": 17,
   "metadata": {},
   "outputs": [],
   "source": [
    "train,test = train_test_split(data,test_size=0.2)"
   ]
  },
  {
   "cell_type": "code",
   "execution_count": 18,
   "metadata": {},
   "outputs": [
    {
     "data": {
      "text/plain": [
       "['diagnosis',\n",
       " 'radius_worst',\n",
       " 'perimeter_worst',\n",
       " 'area_worst',\n",
       " 'concave_points_mean']"
      ]
     },
     "execution_count": 18,
     "metadata": {},
     "output_type": "execute_result"
    }
   ],
   "source": [
    "train_features = {'diagnosis','radius_worst','area_worst','perimeter_worst','concave_points_mean','concave_points_mean'}\n",
    "train_columns = [col for col in data \n",
    "                      if any(feature in col for feature in train_features)]\n",
    "train_columns"
   ]
  },
  {
   "cell_type": "code",
   "execution_count": 19,
   "metadata": {},
   "outputs": [
    {
     "data": {
      "text/html": [
       "<div>\n",
       "<style scoped>\n",
       "    .dataframe tbody tr th:only-of-type {\n",
       "        vertical-align: middle;\n",
       "    }\n",
       "\n",
       "    .dataframe tbody tr th {\n",
       "        vertical-align: top;\n",
       "    }\n",
       "\n",
       "    .dataframe thead th {\n",
       "        text-align: right;\n",
       "    }\n",
       "</style>\n",
       "<table border=\"1\" class=\"dataframe\">\n",
       "  <thead>\n",
       "    <tr style=\"text-align: right;\">\n",
       "      <th></th>\n",
       "      <th>diagnosis</th>\n",
       "      <th>radius_worst</th>\n",
       "      <th>perimeter_worst</th>\n",
       "      <th>area_worst</th>\n",
       "      <th>concave_points_mean</th>\n",
       "    </tr>\n",
       "  </thead>\n",
       "  <tbody>\n",
       "    <tr>\n",
       "      <th>0</th>\n",
       "      <td>1</td>\n",
       "      <td>1.886690</td>\n",
       "      <td>2.303601</td>\n",
       "      <td>2.001237</td>\n",
       "      <td>2.109526</td>\n",
       "    </tr>\n",
       "    <tr>\n",
       "      <th>1</th>\n",
       "      <td>1</td>\n",
       "      <td>1.805927</td>\n",
       "      <td>1.535126</td>\n",
       "      <td>1.890489</td>\n",
       "      <td>-0.146749</td>\n",
       "    </tr>\n",
       "    <tr>\n",
       "      <th>2</th>\n",
       "      <td>1</td>\n",
       "      <td>1.511870</td>\n",
       "      <td>1.347475</td>\n",
       "      <td>1.456285</td>\n",
       "      <td>0.854974</td>\n",
       "    </tr>\n",
       "    <tr>\n",
       "      <th>3</th>\n",
       "      <td>1</td>\n",
       "      <td>-0.281464</td>\n",
       "      <td>-0.249939</td>\n",
       "      <td>-0.550021</td>\n",
       "      <td>1.989588</td>\n",
       "    </tr>\n",
       "    <tr>\n",
       "      <th>4</th>\n",
       "      <td>1</td>\n",
       "      <td>1.298575</td>\n",
       "      <td>1.338539</td>\n",
       "      <td>1.220724</td>\n",
       "      <td>0.613179</td>\n",
       "    </tr>\n",
       "  </tbody>\n",
       "</table>\n",
       "</div>"
      ],
      "text/plain": [
       "   diagnosis  radius_worst  perimeter_worst  area_worst  concave_points_mean\n",
       "0          1      1.886690         2.303601    2.001237             2.109526\n",
       "1          1      1.805927         1.535126    1.890489            -0.146749\n",
       "2          1      1.511870         1.347475    1.456285             0.854974\n",
       "3          1     -0.281464        -0.249939   -0.550021             1.989588\n",
       "4          1      1.298575         1.338539    1.220724             0.613179"
      ]
     },
     "execution_count": 19,
     "metadata": {},
     "output_type": "execute_result"
    }
   ],
   "source": [
    "training = data[train_columns]\n",
    "\n",
    "training.head()"
   ]
  },
  {
   "cell_type": "code",
   "execution_count": 30,
   "metadata": {},
   "outputs": [],
   "source": [
    "causal_graph = \"\"\"\n",
    "digraph{\n",
    "radius_worst;\n",
    "perimeter_worst;\n",
    "area_worst;\n",
    "concave_points_mean;\n",
    "concave_points_worst;\n",
    "U[label=\"Unobserved Confounders\"];\n",
    "radius_worst -> perimeter_worst;radius_worst -> area_worst;\n",
    "perimeter_worst->concave_points_mean;concave_points_mean->concave_points_worst;\n",
    "U->concave_points_mean;U->radius_worst;\n",
    "concave_points_mean->diagnosis;concave_points_worst->diagnosis;radius_worst->diagnosis;\n",
    "}\n",
    "\"\"\""
   ]
  },
  {
   "cell_type": "code",
   "execution_count": 31,
   "metadata": {},
   "outputs": [],
   "source": [
    "model= CausalModel(\n",
    "        data = training,\n",
    "        graph=causal_graph.replace(\"\\n\", \" \"),\n",
    "        treatment='radius_worst',\n",
    "        outcome='diagnosis')"
   ]
  },
  {
   "cell_type": "code",
   "execution_count": 32,
   "metadata": {},
   "outputs": [
    {
     "data": {
      "image/png": "[encoded data removed]",
      "text/plain": [
       "<Figure size 432x288 with 1 Axes>"
      ]
     },
     "metadata": {},
     "output_type": "display_data"
    }
   ],
   "source": [
    "\n",
    "#display(Image(filename=\"causal_model.png\"))\n",
    "model.view_model()"
   ]
  },
  {
   "cell_type": "code",
   "execution_count": 33,
   "metadata": {},
   "outputs": [
    {
     "data": {
      "image/svg+xml": [
       "<?xml version=\"1.0\" encoding=\"UTF-8\" standalone=\"no\"?>\r\n",
       "<!DOCTYPE svg PUBLIC \"-//W3C//DTD SVG 1.1//EN\"\r\n",
       " \"http://www.w3.org/Graphics/SVG/1.1/DTD/svg11.dtd\">\r\n",
       "<!-- Generated by graphviz version 2.38.0 (20140413.2041)\r\n",
       " -->\r\n",
       "<!-- Title: %3 Pages: 1 -->\r\n",
       "<svg width=\"485pt\" height=\"188pt\"\r\n",
       " viewBox=\"0.00 0.00 484.67 188.00\" xmlns=\"http://www.w3.org/2000/svg\" xmlns:xlink=\"http://www.w3.org/1999/xlink\">\r\n",
       "<g id=\"graph0\" class=\"graph\" transform=\"scale(1 1) rotate(0) translate(4 184)\">\r\n",
       "<title>%3</title>\r\n",
       "<polygon fill=\"white\" stroke=\"none\" points=\"-4,4 -4,-184 480.675,-184 480.675,4 -4,4\"/>\r\n",
       "<!-- diagnosis -->\r\n",
       "<g id=\"node1\" class=\"node\"><title>diagnosis</title>\r\n",
       "<ellipse fill=\"none\" stroke=\"black\" cx=\"154.383\" cy=\"-18\" rx=\"44.6926\" ry=\"18\"/>\r\n",
       "<text text-anchor=\"middle\" x=\"154.383\" y=\"-14.3\" font-family=\"Times New Roman,serif\" font-size=\"14.00\">diagnosis</text>\r\n",
       "</g>\r\n",
       "<!-- perimeter_worst -->\r\n",
       "<g id=\"node2\" class=\"node\"><title>perimeter_worst</title>\r\n",
       "<ellipse fill=\"none\" stroke=\"black\" cx=\"85.3828\" cy=\"-90\" rx=\"69.5877\" ry=\"18\"/>\r\n",
       "<text text-anchor=\"middle\" x=\"85.3828\" y=\"-86.3\" font-family=\"Times New Roman,serif\" font-size=\"14.00\">perimeter_worst</text>\r\n",
       "</g>\r\n",
       "<!-- perimeter_worst&#45;&gt;diagnosis -->\r\n",
       "<g id=\"edge5\" class=\"edge\"><title>perimeter_worst&#45;&gt;diagnosis</title>\r\n",
       "<path fill=\"none\" stroke=\"black\" d=\"M101.735,-72.411C110.627,-63.3901 121.767,-52.0882 131.508,-42.2065\"/>\r\n",
       "<polygon fill=\"black\" stroke=\"black\" points=\"134.096,-44.5669 138.623,-34.9881 129.11,-39.6529 134.096,-44.5669\"/>\r\n",
       "</g>\r\n",
       "<!-- concave_points_mean -->\r\n",
       "<g id=\"node3\" class=\"node\"><title>concave_points_mean</title>\r\n",
       "<ellipse fill=\"none\" stroke=\"black\" cx=\"384.383\" cy=\"-90\" rx=\"92.0841\" ry=\"18\"/>\r\n",
       "<text text-anchor=\"middle\" x=\"384.383\" y=\"-86.3\" font-family=\"Times New Roman,serif\" font-size=\"14.00\">concave_points_mean</text>\r\n",
       "</g>\r\n",
       "<!-- concave_points_mean&#45;&gt;diagnosis -->\r\n",
       "<g id=\"edge6\" class=\"edge\"><title>concave_points_mean&#45;&gt;diagnosis</title>\r\n",
       "<path fill=\"none\" stroke=\"black\" d=\"M336.727,-74.496C296.091,-62.1287 238.135,-44.4899 198.538,-32.4385\"/>\r\n",
       "<polygon fill=\"black\" stroke=\"black\" points=\"199.474,-29.0649 188.888,-29.5016 197.436,-35.7616 199.474,-29.0649\"/>\r\n",
       "</g>\r\n",
       "<!-- area_worst -->\r\n",
       "<g id=\"node4\" class=\"node\"><title>area_worst</title>\r\n",
       "<ellipse fill=\"none\" stroke=\"black\" cx=\"223.383\" cy=\"-90\" rx=\"50.8918\" ry=\"18\"/>\r\n",
       "<text text-anchor=\"middle\" x=\"223.383\" y=\"-86.3\" font-family=\"Times New Roman,serif\" font-size=\"14.00\">area_worst</text>\r\n",
       "</g>\r\n",
       "<!-- area_worst&#45;&gt;diagnosis -->\r\n",
       "<g id=\"edge4\" class=\"edge\"><title>area_worst&#45;&gt;diagnosis</title>\r\n",
       "<path fill=\"none\" stroke=\"black\" d=\"M207.379,-72.7646C198.496,-63.7531 187.291,-52.3852 177.474,-42.4261\"/>\r\n",
       "<polygon fill=\"black\" stroke=\"black\" points=\"179.812,-39.8121 170.299,-35.1473 174.827,-44.7261 179.812,-39.8121\"/>\r\n",
       "</g>\r\n",
       "<!-- radius_worst -->\r\n",
       "<g id=\"node5\" class=\"node\"><title>radius_worst</title>\r\n",
       "<ellipse fill=\"none\" stroke=\"black\" cx=\"85.3828\" cy=\"-162\" rx=\"57.6901\" ry=\"18\"/>\r\n",
       "<text text-anchor=\"middle\" x=\"85.3828\" y=\"-158.3\" font-family=\"Times New Roman,serif\" font-size=\"14.00\">radius_worst</text>\r\n",
       "</g>\r\n",
       "<!-- radius_worst&#45;&gt;diagnosis -->\r\n",
       "<g id=\"edge3\" class=\"edge\"><title>radius_worst&#45;&gt;diagnosis</title>\r\n",
       "<path fill=\"none\" stroke=\"black\" d=\"M50.9011,-147.252C34.2508,-138.649 15.8645,-125.779 6.38275,-108 -1.1464,-93.8822 -2.82843,-85.0826 6.38275,-72 27.5279,-41.9677 67.3419,-28.8642 100.353,-23.1904\"/>\r\n",
       "<polygon fill=\"black\" stroke=\"black\" points=\"100.997,-26.6326 110.351,-21.6575 99.9361,-19.7135 100.997,-26.6326\"/>\r\n",
       "</g>\r\n",
       "<!-- radius_worst&#45;&gt;perimeter_worst -->\r\n",
       "<g id=\"edge1\" class=\"edge\"><title>radius_worst&#45;&gt;perimeter_worst</title>\r\n",
       "<path fill=\"none\" stroke=\"black\" d=\"M85.3828,-143.697C85.3828,-135.983 85.3828,-126.712 85.3828,-118.112\"/>\r\n",
       "<polygon fill=\"black\" stroke=\"black\" points=\"88.8829,-118.104 85.3828,-108.104 81.8829,-118.104 88.8829,-118.104\"/>\r\n",
       "</g>\r\n",
       "<!-- radius_worst&#45;&gt;area_worst -->\r\n",
       "<g id=\"edge2\" class=\"edge\"><title>radius_worst&#45;&gt;area_worst</title>\r\n",
       "<path fill=\"none\" stroke=\"black\" d=\"M114.312,-146.326C135.29,-135.685 163.831,-121.207 186.455,-109.731\"/>\r\n",
       "<polygon fill=\"black\" stroke=\"black\" points=\"188.099,-112.822 195.434,-105.177 184.933,-106.579 188.099,-112.822\"/>\r\n",
       "</g>\r\n",
       "</g>\r\n",
       "</svg>\r\n"
      ],
      "text/plain": [
       "<graphviz.dot.Digraph at 0x18f7cfc7700>"
      ]
     },
     "execution_count": 33,
     "metadata": {},
     "output_type": "execute_result"
    }
   ],
   "source": [
    "#area and perimeter functions of radius\n",
    "from causalgraphicalmodels import CausalGraphicalModel\n",
    "causal = CausalGraphicalModel(\n",
    "    nodes=['diagnosis','radius_worst','area_worst','perimeter_worst','concave_points_mean','concave_points_mean'],\n",
    "    edges=[\n",
    "        (\"radius_worst\", \"perimeter_worst\"), \n",
    "        (\"radius_worst\", \"area_worst\"),\n",
    "       \n",
    "        (\"radius_worst\",\"diagnosis\"),\n",
    "        (\"area_worst\",\"concave_points_worst\"),\n",
    "        (\"perimeter_worst\",\"concave_points_worst\"),\n",
    "        (\"concave_points_mean\",\"concave_points_worst\"),\n",
    "       \n",
    "        (\"area_worst\",\"diagnosis\"),\n",
    "        (\"perimeter_worst\",\"diagnosis\"),\n",
    "        (\"concave_points_mean\",\"diagnosis\"),\n",
    "        (\"concave_points_worst\",\"diagnosis\")\n",
    "    ]\n",
    ")\n",
    "# draw return a graphviz `dot` object, which jupyter can render\n",
    "causal.draw()"
   ]
  },
  {
   "cell_type": "code",
   "execution_count": null,
   "metadata": {},
   "outputs": [],
   "source": []
  },
  {
   "cell_type": "markdown",
   "metadata": {},
   "source": [
    "Identify the Causal Effect"
   ]
  },
  {
   "cell_type": "code",
   "execution_count": 34,
   "metadata": {},
   "outputs": [
    {
     "name": "stdout",
     "output_type": "stream",
     "text": [
      "WARN: Do you want to continue by ignoring any unobserved confounders? (use proceed_when_unidentifiable=True to disable this prompt) [y/n] y\n",
      "Estimand type: nonparametric-ate\n",
      "\n",
      "### Estimand : 1\n",
      "Estimand name: backdoor\n",
      "Estimand expression:\n",
      "       d                               \n",
      "───────────────(Expectation(diagnosis))\n",
      "d[radius_worst]                        \n",
      "Estimand assumption 1, Unconfoundedness: If U→{radius_worst} and U→diagnosis then P(diagnosis|radius_worst,,U) = P(diagnosis|radius_worst,)\n",
      "\n",
      "### Estimand : 2\n",
      "Estimand name: iv\n",
      "No such variable found!\n",
      "\n",
      "### Estimand : 3\n",
      "Estimand name: frontdoor\n",
      "No such variable found!\n",
      "\n"
     ]
    }
   ],
   "source": [
    "estimands = model.identify_effect()\n",
    "print(estimands)"
   ]
  },
  {
   "cell_type": "markdown",
   "metadata": {},
   "source": [
    "Estimate the Causal Effect based on the different methods"
   ]
  },
  {
   "cell_type": "code",
   "execution_count": 35,
   "metadata": {},
   "outputs": [
    {
     "name": "stdout",
     "output_type": "stream",
     "text": [
      "*** Causal Estimate ***\n",
      "\n",
      "## Identified estimand\n",
      "Estimand type: nonparametric-ate\n",
      "\n",
      "### Estimand : 1\n",
      "Estimand name: backdoor\n",
      "Estimand expression:\n",
      "       d                               \n",
      "───────────────(Expectation(diagnosis))\n",
      "d[radius_worst]                        \n",
      "Estimand assumption 1, Unconfoundedness: If U→{radius_worst} and U→diagnosis then P(diagnosis|radius_worst,,U) = P(diagnosis|radius_worst,)\n",
      "\n",
      "## Realized estimand\n",
      "b: diagnosis~radius_worst\n",
      "Target units: ate\n",
      "\n",
      "## Estimate\n",
      "Mean value: 0.3754096049015073\n",
      "p-value: [8.48229192e-116]\n",
      "\n",
      "Causal Estimate is 0.3754096049015073\n",
      "ATE 1.605927132452262\n"
     ]
    }
   ],
   "source": [
    "# Estimate the causal effect and compare it with Average Treatment Effect\n",
    "estimate = model.estimate_effect(estimands,\n",
    "        method_name=\"backdoor.linear_regression\", test_significance=True\n",
    ")\n",
    "\n",
    "print(estimate)\n",
    "\n",
    "print(\"Causal Estimate is \" + str(estimate.value))\n",
    "data_1 = data[data[\"diagnosis\"]==1]\n",
    "data_0 = data[data[\"diagnosis\"]==0]\n",
    "\n",
    "print(\"ATE\", np.mean(data_1[\"radius_worst\"])- np.mean(data_0[\"radius_worst\"]))"
   ]
  },
  {
   "cell_type": "code",
   "execution_count": null,
   "metadata": {},
   "outputs": [],
   "source": []
  }
 ],
 "metadata": {
  "kernelspec": {
   "display_name": "Python 3",
   "language": "python",
   "name": "python3"
  },
  "language_info": {
   "codemirror_mode": {
    "name": "ipython",
    "version": 3
   },
   "file_extension": ".py",
   "mimetype": "text/x-python",
   "name": "python",
   "nbconvert_exporter": "python",
   "pygments_lexer": "ipython3",
   "version": "3.8.5"
  }
 },
 "nbformat": 4,
 "nbformat_minor": 4
}
